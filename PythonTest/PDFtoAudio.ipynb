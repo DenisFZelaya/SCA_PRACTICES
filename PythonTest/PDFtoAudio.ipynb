{
 "cells": [
  {
   "cell_type": "code",
   "execution_count": 3,
   "metadata": {},
   "outputs": [],
   "source": [
    "#!pip install pyttsx3 PyPDF2"
   ]
  },
  {
   "cell_type": "code",
   "execution_count": 12,
   "metadata": {},
   "outputs": [
    {
     "name": "stdout",
     "output_type": "stream",
     "text": [
      "\n",
      "Reading page 1: \n",
      "\n",
      "Asignatura Datos del alumno Fecha Metodología de Diseño y Gestión de Proyectos Claudia Alejandra Vazquez Solis Roberto Angel Valdez Hernandez  27/11/2024 Erasmo Genaro Salas Amaya Denis Federico Zelaya Zelaya  \n",
      " Actividades Actividad 1 grupal: Encontrar los cuatro fallos Fallo 1 – No estábamos tratando el problema correcto Proyecto ARA de Google El Proyecto ARA de Google fue un ambicioso intento de crear un teléfono modular, en el cual los usuarios pudieran personalizar y actualizar componentes individuales (como la cámara, la batería o el procesador) en lugar de reemplazar todo el dispositivo. Sin embargo, el proyecto fracasó en 2016 por varios motivos que lo convierten en un ejemplo claro del \"Problema 1\": no estar resolviendo el problema correcto. Aunque la idea parecía atractiva en teoría, no abordaba problemas reales que los usuarios consideraran prioritarios. Los teléfonos modulares no ofrecían mejoras sustanciales en precio, rendimiento o facilidad de uso en comparación con los dispositivos tradicionales. Las partes reemplazables eran difíciles de fabricar y aumentaban los costos, haciendo que el producto no fuera competitivo El Proyecto ARA es un ejemplo claro de cómo no definir adecuadamente el problema puede llevar al fracaso: ● Google identificó el problema de la obsolescencia tecnológica y el desperdicio electrónico, pero no validó si los consumidores realmente querían una solución modular. ● La misión del proyecto no se alineó con las prioridades reales del mercado ni con las expectativas de los usuarios. En su lugar, trató de resolver un problema que, aunque interesante, no era lo suficientemente relevante para la mayoría de los compradores El problema pudo haberse evitado con las siguientes acciones: ● Validar la demanda real: Realizar estudios de mercado para entender si los consumidores valoran el modularidad y, de ser así, en qué aspectos (batería, almacenamiento, cámara, etc.). \n"
     ]
    },
    {
     "ename": "KeyboardInterrupt",
     "evalue": "",
     "output_type": "error",
     "traceback": [
      "\u001b[1;31m---------------------------------------------------------------------------\u001b[0m",
      "\u001b[1;31mKeyboardInterrupt\u001b[0m                         Traceback (most recent call last)",
      "Cell \u001b[1;32mIn[12], line 15\u001b[0m\n\u001b[0;32m     13\u001b[0m         \u001b[38;5;28mprint\u001b[39m(text)\n\u001b[0;32m     14\u001b[0m         speak\u001b[38;5;241m.\u001b[39msay(text)\n\u001b[1;32m---> 15\u001b[0m         \u001b[43mspeak\u001b[49m\u001b[38;5;241;43m.\u001b[39;49m\u001b[43mrunAndWait\u001b[49m\u001b[43m(\u001b[49m\u001b[43m)\u001b[49m\n\u001b[0;32m     16\u001b[0m speak\u001b[38;5;241m.\u001b[39mstop()\n",
      "File \u001b[1;32mc:\\Users\\DenisZelaya\\anaconda3\\envs\\tf_gpu_env\\lib\\site-packages\\pyttsx3\\engine.py:183\u001b[0m, in \u001b[0;36mEngine.runAndWait\u001b[1;34m(self)\u001b[0m\n\u001b[0;32m    181\u001b[0m \u001b[38;5;28mself\u001b[39m\u001b[38;5;241m.\u001b[39m_inLoop \u001b[38;5;241m=\u001b[39m \u001b[38;5;28;01mTrue\u001b[39;00m\n\u001b[0;32m    182\u001b[0m \u001b[38;5;28mself\u001b[39m\u001b[38;5;241m.\u001b[39m_driverLoop \u001b[38;5;241m=\u001b[39m \u001b[38;5;28;01mTrue\u001b[39;00m\n\u001b[1;32m--> 183\u001b[0m \u001b[38;5;28;43mself\u001b[39;49m\u001b[38;5;241;43m.\u001b[39;49m\u001b[43mproxy\u001b[49m\u001b[38;5;241;43m.\u001b[39;49m\u001b[43mrunAndWait\u001b[49m\u001b[43m(\u001b[49m\u001b[43m)\u001b[49m\n",
      "File \u001b[1;32mc:\\Users\\DenisZelaya\\anaconda3\\envs\\tf_gpu_env\\lib\\site-packages\\pyttsx3\\driver.py:195\u001b[0m, in \u001b[0;36mDriverProxy.runAndWait\u001b[1;34m(self)\u001b[0m\n\u001b[0;32m    190\u001b[0m \u001b[38;5;250m\u001b[39m\u001b[38;5;124;03m'''\u001b[39;00m\n\u001b[0;32m    191\u001b[0m \u001b[38;5;124;03mCalled by the engine to start an event loop, process all commands in\u001b[39;00m\n\u001b[0;32m    192\u001b[0m \u001b[38;5;124;03mthe queue at the start of the loop, and then exit the loop.\u001b[39;00m\n\u001b[0;32m    193\u001b[0m \u001b[38;5;124;03m'''\u001b[39;00m\n\u001b[0;32m    194\u001b[0m \u001b[38;5;28mself\u001b[39m\u001b[38;5;241m.\u001b[39m_push(\u001b[38;5;28mself\u001b[39m\u001b[38;5;241m.\u001b[39m_engine\u001b[38;5;241m.\u001b[39mendLoop, \u001b[38;5;28mtuple\u001b[39m())\n\u001b[1;32m--> 195\u001b[0m \u001b[38;5;28;43mself\u001b[39;49m\u001b[38;5;241;43m.\u001b[39;49m\u001b[43m_driver\u001b[49m\u001b[38;5;241;43m.\u001b[39;49m\u001b[43mstartLoop\u001b[49m\u001b[43m(\u001b[49m\u001b[43m)\u001b[49m\n",
      "File \u001b[1;32mc:\\Users\\DenisZelaya\\anaconda3\\envs\\tf_gpu_env\\lib\\site-packages\\pyttsx3\\drivers\\sapi5.py:146\u001b[0m, in \u001b[0;36mSAPI5Driver.startLoop\u001b[1;34m(self)\u001b[0m\n\u001b[0;32m    144\u001b[0m     first \u001b[38;5;241m=\u001b[39m \u001b[38;5;28;01mFalse\u001b[39;00m\n\u001b[0;32m    145\u001b[0m pythoncom\u001b[38;5;241m.\u001b[39mPumpWaitingMessages()\n\u001b[1;32m--> 146\u001b[0m \u001b[43mtime\u001b[49m\u001b[38;5;241;43m.\u001b[39;49m\u001b[43msleep\u001b[49m\u001b[43m(\u001b[49m\u001b[38;5;241;43m0.05\u001b[39;49m\u001b[43m)\u001b[49m\n",
      "\u001b[1;31mKeyboardInterrupt\u001b[0m: "
     ]
    }
   ],
   "source": [
    "import PyPDF2\n",
    "import pyttsx3\n",
    "\n",
    "with open(\"test.pdf\", \"rb\") as path:\n",
    "    pdfReader = PyPDF2.PdfReader(path)\n",
    "\n",
    "    speak = pyttsx3.init()\n",
    "    for page_num in range(len(pdfReader.pages)):\n",
    "        page = pdfReader.pages[page_num]\n",
    "        text = page.extract_text()\n",
    "        if text:\n",
    "            print(f\"\\nReading page {page_num + 1}: \\n\")\n",
    "            print(text)\n",
    "            speak.say(text)\n",
    "            speak.runAndWait()\n",
    "    speak.stop()"
   ]
  },
  {
   "cell_type": "code",
   "execution_count": 2,
   "metadata": {},
   "outputs": [],
   "source": [
    "#!pip install ipywidgets\n"
   ]
  },
  {
   "cell_type": "code",
   "execution_count": 4,
   "metadata": {},
   "outputs": [],
   "source": [
    "import PyPDF2\n",
    "import pyttsx3\n",
    "import ipywidgets as widgets\n",
    "from IPython.display import display\n"
   ]
  },
  {
   "cell_type": "code",
   "execution_count": 10,
   "metadata": {},
   "outputs": [
    {
     "data": {
      "application/vnd.jupyter.widget-view+json": {
       "model_id": "1adc54c4de65403b87e17b3a35c660e2",
       "version_major": 2,
       "version_minor": 0
      },
      "text/plain": [
       "FileUpload(value=(), accept='.pdf', description='Upload')"
      ]
     },
     "metadata": {},
     "output_type": "display_data"
    }
   ],
   "source": [
    "\n",
    "# Crear un widget de carga de archivos\n",
    "upload_widget = widgets.FileUpload(accept='.pdf', multiple=False)\n",
    "display(upload_widget)"
   ]
  },
  {
   "cell_type": "code",
   "execution_count": 11,
   "metadata": {},
   "outputs": [],
   "source": [
    "\n",
    "\n",
    "# Función para procesar el archivo cargado\n",
    "def process_pdf(uploaded_file):\n",
    "    if uploaded_file:\n",
    "        # Extraer el contenido del archivo cargado\n",
    "        for file_name, file_content in uploaded_file.items():\n",
    "            with open(file_name, 'wb') as f:\n",
    "                f.write(file_content['content'])\n",
    "\n",
    "            # Leer el PDF\n",
    "            with open(file_name, 'rb') as pdf_file:\n",
    "                pdf_reader = PyPDF2.PdfReader(pdf_file)\n",
    "                speak = pyttsx3.init()\n",
    "\n",
    "                for page_num in range(len(pdf_reader.pages)):\n",
    "                    page = pdf_reader.pages[page_num]\n",
    "                    text = page.extract_text()\n",
    "                    if text:\n",
    "                        print(f\"\\nReading page {page_num + 1}: \\n\")\n",
    "                        print(text)\n",
    "                        speak.say(text)\n",
    "                        speak.runAndWait()\n",
    "                speak.stop()\n",
    "\n",
    " #Llamar la función al cargar un archivo\n",
    "upload_widget.observe(lambda change: process_pdf(upload_widget.value), names='value')\n"
   ]
  }
 ],
 "metadata": {
  "kernelspec": {
   "display_name": "tf_gpu_env",
   "language": "python",
   "name": "python3"
  },
  "language_info": {
   "codemirror_mode": {
    "name": "ipython",
    "version": 3
   },
   "file_extension": ".py",
   "mimetype": "text/x-python",
   "name": "python",
   "nbconvert_exporter": "python",
   "pygments_lexer": "ipython3",
   "version": "3.8.20"
  }
 },
 "nbformat": 4,
 "nbformat_minor": 2
}
