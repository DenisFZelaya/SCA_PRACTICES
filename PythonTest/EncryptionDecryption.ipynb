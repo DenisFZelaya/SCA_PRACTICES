{
 "cells": [
  {
   "cell_type": "code",
   "execution_count": 1,
   "metadata": {},
   "outputs": [
    {
     "name": "stdout",
     "output_type": "stream",
     "text": [
      "Encrypted data:  FH\\\n",
      "Decrypted data:  DFZ\n"
     ]
    }
   ],
   "source": [
    "class Encrypt:\n",
    "    def __init__(self):\n",
    "        self.send = \"\"\n",
    "        self.res = []\n",
    "    \n",
    "    # Sender encrypts the data\n",
    "    def sender(self):\n",
    "        self.send = input(\"Enter the data: \")\n",
    "        self.res = [ord(i) + 2 for i in self.send]\n",
    "        print(\"Encrypted data: \", \"\".join(chr(i) for i in self.res))\n",
    "\n",
    "class Decrypt(Encrypt):\n",
    "    # Receiver decrypts the data\n",
    "    def receiver(self):\n",
    "        decrypted_data = \"\".join(chr(i -2) for i in self.res)\n",
    "        print(\"Decrypted data: \", decrypted_data)\n",
    "\n",
    "# Usage\n",
    "obj = Decrypt()\n",
    "obj.sender()\n",
    "obj.receiver()"
   ]
  }
 ],
 "metadata": {
  "kernelspec": {
   "display_name": "tf_gpu_env",
   "language": "python",
   "name": "python3"
  },
  "language_info": {
   "codemirror_mode": {
    "name": "ipython",
    "version": 3
   },
   "file_extension": ".py",
   "mimetype": "text/x-python",
   "name": "python",
   "nbconvert_exporter": "python",
   "pygments_lexer": "ipython3",
   "version": "3.8.20"
  }
 },
 "nbformat": 4,
 "nbformat_minor": 2
}
