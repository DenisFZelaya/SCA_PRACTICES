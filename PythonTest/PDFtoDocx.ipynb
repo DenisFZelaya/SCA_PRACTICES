{
 "cells": [
  {
   "cell_type": "code",
   "execution_count": 2,
   "metadata": {},
   "outputs": [],
   "source": [
    "#!pip install pdf2docx"
   ]
  },
  {
   "cell_type": "code",
   "execution_count": 3,
   "metadata": {},
   "outputs": [
    {
     "name": "stderr",
     "output_type": "stream",
     "text": [
      "[INFO] Start to convert test.pdf\n",
      "[INFO] \u001b[1;36m[1/4] Opening document...\u001b[0m\n",
      "[INFO] \u001b[1;36m[2/4] Analyzing document...\u001b[0m\n",
      "[INFO] \u001b[1;36m[3/4] Parsing pages...\u001b[0m\n",
      "[INFO] (1/6) Page 1\n",
      "[INFO] (2/6) Page 2\n",
      "[INFO] (3/6) Page 3\n",
      "[INFO] (4/6) Page 4\n",
      "[INFO] (5/6) Page 5\n",
      "[INFO] (6/6) Page 6\n",
      "[INFO] \u001b[1;36m[4/4] Creating pages...\u001b[0m\n",
      "[INFO] (1/6) Page 1\n",
      "[INFO] (2/6) Page 2\n",
      "[INFO] (3/6) Page 3\n",
      "[INFO] (4/6) Page 4\n",
      "[INFO] (5/6) Page 5\n",
      "[INFO] (6/6) Page 6\n",
      "[INFO] Terminated in 1.38s.\n"
     ]
    }
   ],
   "source": [
    "from pdf2docx import Converter\n",
    "\n",
    "pdf_file = \"test.pdf\"\n",
    "docx_file = \"test.docx\"\n",
    "\n",
    "cv = Converter(pdf_file)\n",
    "cv.convert(docx_file)\n",
    "\n",
    "cv.close()"
   ]
  }
 ],
 "metadata": {
  "kernelspec": {
   "display_name": "tf_gpu_env",
   "language": "python",
   "name": "python3"
  },
  "language_info": {
   "codemirror_mode": {
    "name": "ipython",
    "version": 3
   },
   "file_extension": ".py",
   "mimetype": "text/x-python",
   "name": "python",
   "nbconvert_exporter": "python",
   "pygments_lexer": "ipython3",
   "version": "3.8.20"
  }
 },
 "nbformat": 4,
 "nbformat_minor": 2
}
