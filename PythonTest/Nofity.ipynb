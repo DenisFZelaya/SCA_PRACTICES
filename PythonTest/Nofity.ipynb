{
 "cells": [
  {
   "cell_type": "markdown",
   "metadata": {},
   "source": [
    "pip install plyer"
   ]
  },
  {
   "cell_type": "code",
   "execution_count": 1,
   "metadata": {},
   "outputs": [
    {
     "name": "stdout",
     "output_type": "stream",
     "text": [
      "Collecting plyerNote: you may need to restart the kernel to use updated packages.\n"
     ]
    },
    {
     "name": "stderr",
     "output_type": "stream",
     "text": [
      "WARNING: Skipping c:\\Users\\zelayad\\AppData\\Local\\miniconda3\\Lib\\site-packages\\certifi-2024.6.2.dist-info due to invalid metadata entry 'name'\n",
      "WARNING: Skipping c:\\Users\\zelayad\\AppData\\Local\\miniconda3\\Lib\\site-packages\\conda-24.5.0.dist-info due to invalid metadata entry 'name'\n",
      "WARNING: Skipping c:\\Users\\zelayad\\AppData\\Local\\miniconda3\\Lib\\site-packages\\certifi-2024.6.2.dist-info due to invalid metadata entry 'name'\n",
      "WARNING: Skipping c:\\Users\\zelayad\\AppData\\Local\\miniconda3\\Lib\\site-packages\\conda-24.5.0.dist-info due to invalid metadata entry 'name'\n",
      "WARNING: Skipping c:\\Users\\zelayad\\AppData\\Local\\miniconda3\\Lib\\site-packages\\certifi-2024.6.2.dist-info due to invalid metadata entry 'name'\n",
      "WARNING: Skipping c:\\Users\\zelayad\\AppData\\Local\\miniconda3\\Lib\\site-packages\\conda-24.5.0.dist-info due to invalid metadata entry 'name'\n",
      "WARNING: Skipping c:\\Users\\zelayad\\AppData\\Local\\miniconda3\\Lib\\site-packages\\certifi-2024.6.2.dist-info due to invalid metadata entry 'name'\n",
      "WARNING: Skipping c:\\Users\\zelayad\\AppData\\Local\\miniconda3\\Lib\\site-packages\\conda-24.5.0.dist-info due to invalid metadata entry 'name'\n",
      "WARNING: Skipping c:\\Users\\zelayad\\AppData\\Local\\miniconda3\\Lib\\site-packages\\certifi-2024.6.2.dist-info due to invalid metadata entry 'name'\n",
      "WARNING: Skipping c:\\Users\\zelayad\\AppData\\Local\\miniconda3\\Lib\\site-packages\\conda-24.5.0.dist-info due to invalid metadata entry 'name'\n",
      "WARNING: Skipping c:\\Users\\zelayad\\AppData\\Local\\miniconda3\\Lib\\site-packages\\certifi-2024.6.2.dist-info due to invalid metadata entry 'name'\n",
      "WARNING: Skipping c:\\Users\\zelayad\\AppData\\Local\\miniconda3\\Lib\\site-packages\\conda-24.5.0.dist-info due to invalid metadata entry 'name'\n",
      "WARNING: Skipping c:\\Users\\zelayad\\AppData\\Local\\miniconda3\\Lib\\site-packages\\certifi-2024.6.2.dist-info due to invalid metadata entry 'name'\n",
      "WARNING: Skipping c:\\Users\\zelayad\\AppData\\Local\\miniconda3\\Lib\\site-packages\\conda-24.5.0.dist-info due to invalid metadata entry 'name'\n"
     ]
    },
    {
     "name": "stdout",
     "output_type": "stream",
     "text": [
      "\n",
      "  Downloading plyer-2.1.0-py2.py3-none-any.whl.metadata (61 kB)\n",
      "     ---------------------------------------- 0.0/61.2 kB ? eta -:--:--\n",
      "     ---------------------------------------- 0.0/61.2 kB ? eta -:--:--\n",
      "     ------ --------------------------------- 10.2/61.2 kB ? eta -:--:--\n",
      "     ------------ ------------------------- 20.5/61.2 kB 129.6 kB/s eta 0:00:01\n",
      "     ------------ ------------------------- 20.5/61.2 kB 129.6 kB/s eta 0:00:01\n",
      "     ------------------- ------------------ 30.7/61.2 kB 130.4 kB/s eta 0:00:01\n",
      "     ------------------------------- ------ 51.2/61.2 kB 174.3 kB/s eta 0:00:01\n",
      "     ------------------------------- ------ 51.2/61.2 kB 174.3 kB/s eta 0:00:01\n",
      "     -------------------------------------- 61.2/61.2 kB 180.6 kB/s eta 0:00:00\n",
      "Downloading plyer-2.1.0-py2.py3-none-any.whl (142 kB)\n",
      "   ---------------------------------------- 0.0/142.3 kB ? eta -:--:--\n",
      "   -------------------- ------------------- 71.7/142.3 kB 1.3 MB/s eta 0:00:01\n",
      "   ------------------------------------- -- 133.1/142.3 kB 1.6 MB/s eta 0:00:01\n",
      "   ---------------------------------------- 142.3/142.3 kB 1.2 MB/s eta 0:00:00\n",
      "Installing collected packages: plyer\n",
      "Successfully installed plyer-2.1.0\n"
     ]
    }
   ],
   "source": [
    "%pip install plyer"
   ]
  },
  {
   "cell_type": "code",
   "execution_count": 2,
   "metadata": {},
   "outputs": [],
   "source": [
    "from plyer import notification\n",
    "import time\n",
    "\n",
    "# Displya a notification for 5 seconds\n",
    "notification.notify(\n",
    "    title=\"Hello\",\n",
    "    message=\"This is a Notifiction!\",\n",
    "    app_name=\"Plyer Example\",\n",
    "    timeout=5\n",
    ")\n",
    "\n",
    "# Wait for 10 seconds\n",
    "time.sleep(5)"
   ]
  }
 ],
 "metadata": {
  "kernelspec": {
   "display_name": "Python 3",
   "language": "python",
   "name": "python3"
  },
  "language_info": {
   "codemirror_mode": {
    "name": "ipython",
    "version": 3
   },
   "file_extension": ".py",
   "mimetype": "text/x-python",
   "name": "python",
   "nbconvert_exporter": "python",
   "pygments_lexer": "ipython3",
   "version": "3.12.3"
  }
 },
 "nbformat": 4,
 "nbformat_minor": 2
}
