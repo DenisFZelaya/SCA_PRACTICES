{
 "cells": [
  {
   "cell_type": "code",
   "execution_count": 25,
   "metadata": {},
   "outputs": [],
   "source": [
    "import os\n",
    "import matplotlib.pyplot as plt\n",
    "import tensorflow as tf"
   ]
  },
  {
   "cell_type": "markdown",
   "metadata": {},
   "source": [
    "Flores de Iris"
   ]
  },
  {
   "cell_type": "code",
   "execution_count": 7,
   "metadata": {},
   "outputs": [
    {
     "name": "stdout",
     "output_type": "stream",
     "text": [
      "TF VERSION: 2.10.1\n",
      "Eager Execution: True\n"
     ]
    }
   ],
   "source": [
    "print(\"TF VERSION:\", tf.__version__)\n",
    "print(\"Eager Execution:\", tf.executing_eagerly())"
   ]
  },
  {
   "cell_type": "markdown",
   "metadata": {},
   "source": [
    "    "
   ]
  },
  {
   "cell_type": "code",
   "execution_count": null,
   "metadata": {},
   "outputs": [],
   "source": []
  },
  {
   "cell_type": "code",
   "execution_count": 8,
   "metadata": {},
   "outputs": [
    {
     "name": "stdout",
     "output_type": "stream",
     "text": [
      "Downloading data from https://storage.googleapis.com/download.tensorflow.org/data/iris_training.csv\n",
      "2194/2194 [==============================] - 0s 0s/step\n",
      "Local copy of the dataset file:  C:\\Users\\DenisZelaya\\.keras\\datasets\\iris_training.csv\n"
     ]
    }
   ],
   "source": [
    "# Descargar conjunto de datos\n",
    "\n",
    "train_dataset_url = \"https://storage.googleapis.com/download.tensorflow.org/data/iris_training.csv\"\n",
    "train_dataset_fp = tf.keras.utils.get_file(fname=os.path.basename(train_dataset_url),origin=train_dataset_url)\n",
    "\n",
    "#\n",
    "print(\"Local copy of the dataset file: \", train_dataset_fp)"
   ]
  },
  {
   "cell_type": "code",
   "execution_count": 20,
   "metadata": {},
   "outputs": [
    {
     "name": "stdout",
     "output_type": "stream",
     "text": [
      "120,4,setosa,versicolor,virginica\n",
      "6.4,2.8,5.6,2.2,2\n",
      "5.0,2.3,3.3,1.0,1\n",
      "4.9,2.5,4.5,1.7,2\n",
      "4.9,3.1,1.5,0.1,0\n"
     ]
    }
   ],
   "source": [
    "# Leer las primeras 5 líneas\n",
    "with open(train_dataset_fp, 'r') as file:\n",
    "    for _ in range(5):\n",
    "        print(file.readline().strip())"
   ]
  },
  {
   "cell_type": "code",
   "execution_count": null,
   "metadata": {},
   "outputs": [],
   "source": [
    "# Resumen\n",
    "# 120 Ejemplos\n",
    "# Cada uno tiene 4 caracteriticas y uno de los 3 posibles nombres de la etiqueta\n",
    "\n",
    "# ETIQUETAS\n",
    "# 0 - Iris setosa\n",
    "# 1 - Iris Versicolor\n",
    "# 2 - Iris virginica"
   ]
  },
  {
   "cell_type": "code",
   "execution_count": 21,
   "metadata": {},
   "outputs": [
    {
     "name": "stdout",
     "output_type": "stream",
     "text": [
      "FEATURES:  ['sepal_length', 'sepal_width', 'petal_length', 'petal_width']\n",
      "LABELS:  species\n"
     ]
    }
   ],
   "source": [
    "# Oordenar columnas en el csv\n",
    "column_names = ['sepal_length', 'sepal_width', 'petal_length', 'petal_width', 'species']\n",
    "\n",
    "feature_names = column_names[:-1]\n",
    "label_name = column_names[-1]\n",
    "\n",
    "print(\"FEATURES: \", feature_names)\n",
    "print(\"LABELS: \", label_name)"
   ]
  },
  {
   "cell_type": "code",
   "execution_count": 22,
   "metadata": {},
   "outputs": [],
   "source": [
    "class_names = ['Iris_setosa', 'Iris_versicolor','Iris_virginica']"
   ]
  },
  {
   "cell_type": "code",
   "execution_count": null,
   "metadata": {},
   "outputs": [],
   "source": [
    "train_dataset = tf.data.experimental.make_csv_dataset(\n",
    "    train_dataset_fp,\n",
    "    batch_size=32,\n",
    "    column_names=column_names,\n",
    "    label_name=label_name,\n",
    "    num_epochs=1\n",
    ")"
   ]
  },
  {
   "cell_type": "code",
   "execution_count": null,
   "metadata": {},
   "outputs": [],
   "source": [
    "# make_csv_dataset devuelve en un diccionario feature_name, value"
   ]
  },
  {
   "cell_type": "code",
   "execution_count": 24,
   "metadata": {},
   "outputs": [
    {
     "name": "stdout",
     "output_type": "stream",
     "text": [
      "features:  OrderedDict([('sepal_length', <tf.Tensor: shape=(32,), dtype=float32, numpy=\n",
      "array([6.1, 5.1, 5.5, 6.1, 5.7, 7.2, 6.8, 7.9, 6.5, 5.4, 6.9, 5.5, 6.4,\n",
      "       5.9, 6.2, 6.4, 5.7, 5.8, 7.2, 5.3, 5.8, 5.4, 4.6, 5. , 5.6, 7.6,\n",
      "       6.7, 4.6, 4.9, 7.4, 7.3, 5. ], dtype=float32)>), ('sepal_width', <tf.Tensor: shape=(32,), dtype=float32, numpy=\n",
      "array([2.6, 3.5, 2.6, 2.8, 2.8, 3.2, 3. , 3.8, 2.8, 3.9, 3.1, 3.5, 2.7,\n",
      "       3.2, 2.8, 3.1, 4.4, 2.7, 3. , 3.7, 4. , 3.4, 3.6, 3. , 2.7, 3. ,\n",
      "       3. , 3.2, 3. , 2.8, 2.9, 3.4], dtype=float32)>), ('petal_length', <tf.Tensor: shape=(32,), dtype=float32, numpy=\n",
      "array([5.6, 1.4, 4.4, 4. , 4.5, 6. , 5.5, 6.4, 4.6, 1.3, 4.9, 1.3, 5.3,\n",
      "       4.8, 4.8, 5.5, 1.5, 4.1, 5.8, 1.5, 1.2, 1.5, 1. , 1.6, 4.2, 6.6,\n",
      "       5.2, 1.4, 1.4, 6.1, 6.3, 1.5], dtype=float32)>), ('petal_width', <tf.Tensor: shape=(32,), dtype=float32, numpy=\n",
      "array([1.4, 0.3, 1.2, 1.3, 1.3, 1.8, 2.1, 2. , 1.5, 0.4, 1.5, 0.2, 1.9,\n",
      "       1.8, 1.8, 1.8, 0.4, 1. , 1.6, 0.2, 0.2, 0.4, 0.2, 0.2, 1.3, 2.1,\n",
      "       2.3, 0.2, 0.2, 1.9, 1.8, 0.2], dtype=float32)>)])\n",
      "labels:  tf.Tensor([2 0 1 1 1 2 2 2 1 0 1 0 2 1 2 2 0 1 2 0 0 0 0 0 1 2 2 0 0 2 2 0], shape=(32,), dtype=int32)\n"
     ]
    }
   ],
   "source": [
    "features, labels = next(iter(train_dataset))\n",
    "\n",
    "print(\"features: \", features)\n",
    "print(\"labels: \", labels)"
   ]
  },
  {
   "cell_type": "code",
   "execution_count": 27,
   "metadata": {},
   "outputs": [
    {
     "data": {
      "image/png": "[encoded data removed]",
      "text/plain": [
       "<Figure size 640x480 with 1 Axes>"
      ]
     },
     "metadata": {},
     "output_type": "display_data"
    }
   ],
   "source": [
    "plt.scatter(features['petal_length'],\n",
    "            features['sepal_length'],\n",
    "            c=labels,\n",
    "            cmap=\"viridis\"\n",
    "            )\n",
    "\n",
    "plt.xlabel(\"Petal length\")\n",
    "plt.ylabel(\"Sepal length\")\n",
    "plt.show()"
   ]
  },
  {
   "cell_type": "code",
   "execution_count": 28,
   "metadata": {},
   "outputs": [
    {
     "data": {
      "text/plain": [
       "<tf.Tensor: shape=(32,), dtype=float32, numpy=\n",
       "array([6.1, 5.1, 5.5, 6.1, 5.7, 7.2, 6.8, 7.9, 6.5, 5.4, 6.9, 5.5, 6.4,\n",
       "       5.9, 6.2, 6.4, 5.7, 5.8, 7.2, 5.3, 5.8, 5.4, 4.6, 5. , 5.6, 7.6,\n",
       "       6.7, 4.6, 4.9, 7.4, 7.3, 5. ], dtype=float32)>"
      ]
     },
     "execution_count": 28,
     "metadata": {},
     "output_type": "execute_result"
    }
   ],
   "source": [
    "features['sepal_length']"
   ]
  }
 ],
 "metadata": {
  "kernelspec": {
   "display_name": "tf_gpu_env",
   "language": "python",
   "name": "python3"
  },
  "language_info": {
   "codemirror_mode": {
    "name": "ipython",
    "version": 3
   },
   "file_extension": ".py",
   "mimetype": "text/x-python",
   "name": "python",
   "nbconvert_exporter": "python",
   "pygments_lexer": "ipython3",
   "version": "3.8.20"
  }
 },
 "nbformat": 4,
 "nbformat_minor": 2
}
